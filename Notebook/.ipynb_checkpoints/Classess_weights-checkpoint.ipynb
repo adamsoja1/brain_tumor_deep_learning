{
 "cells": [
  {
   "cell_type": "code",
   "execution_count": 1,
   "id": "daed475c-d87e-4fa9-8d8d-24ef6df676ae",
   "metadata": {},
   "outputs": [],
   "source": [
    "import numpy as np\n",
    "import os"
   ]
  },
  {
   "cell_type": "code",
   "execution_count": 2,
   "id": "7116e8ad-96e3-4477-92a4-170e54222804",
   "metadata": {},
   "outputs": [],
   "source": [
    "\n",
    "\n",
    "path = '../brains/train'"
   ]
  },
  {
   "cell_type": "code",
   "execution_count": 3,
   "id": "42aaae41-1a70-480e-a179-616fc9451a95",
   "metadata": {},
   "outputs": [],
   "source": [
    "def count_classes(path):\n",
    "    \n",
    "    files  = os.listdir(f'{path}/mask')\n",
    "    zeros = 0\n",
    "    first = 0\n",
    "    second = 0\n",
    "    fourth = 0\n",
    "    \n",
    "    for file in files:\n",
    "        mask = np.load(f'{path}/mask/{file}')\n",
    "        mask = np.argmax(mask,axis=3)\n",
    "        calculate_zeros = np.sum(mask==0)\n",
    "        zeros += calculate_zeros\n",
    "        \n",
    "        calculate_ones = np.sum(mask==1)\n",
    "        first += calculate_ones\n",
    "    \n",
    "        calculate_two = np.sum(mask==2)\n",
    "        second +=calculate_two\n",
    "        \n",
    "        calculate_fours = np.sum(mask==3)\n",
    "        fourth +=calculate_fours\n",
    "\n",
    "        \n",
    "\n",
    "        \n",
    "    return zeros,first,second,fourth\n",
    "        \n",
    "    "
   ]
  },
  {
   "cell_type": "code",
   "execution_count": null,
   "id": "1fd2b50a-f508-42f8-9094-41dfe689b981",
   "metadata": {},
   "outputs": [],
   "source": [
    "zero,first,second,fourth = count_classes(path)"
   ]
  },
  {
   "cell_type": "code",
   "execution_count": null,
   "id": "4113d0cb-6eaf-47dc-ae94-87a0eab8a977",
   "metadata": {},
   "outputs": [
    {
     "data": {
      "text/plain": [
       "843202746"
      ]
     },
     "execution_count": 9,
     "metadata": {},
     "output_type": "execute_result"
    }
   ],
   "source": [
    "zero"
   ]
  },
  {
   "cell_type": "code",
   "execution_count": null,
   "id": "d811e770-9150-4af2-afba-c1088821e2ce",
   "metadata": {},
   "outputs": [
    {
     "data": {
      "text/plain": [
       "19953059"
      ]
     },
     "execution_count": 10,
     "metadata": {},
     "output_type": "execute_result"
    }
   ],
   "source": [
    "first"
   ]
  },
  {
   "cell_type": "code",
   "execution_count": null,
   "id": "38fb93dd-def2-46af-9dc4-0d80472b1906",
   "metadata": {},
   "outputs": [
    {
     "data": {
      "text/plain": [
       "21953423"
      ]
     },
     "execution_count": 11,
     "metadata": {},
     "output_type": "execute_result"
    }
   ],
   "source": [
    "second"
   ]
  },
  {
   "cell_type": "code",
   "execution_count": null,
   "id": "3433ad7d-cd67-4f96-8ab7-e29dfad455fe",
   "metadata": {},
   "outputs": [
    {
     "data": {
      "text/plain": [
       "10890772"
      ]
     },
     "execution_count": 12,
     "metadata": {},
     "output_type": "execute_result"
    }
   ],
   "source": [
    "fourth"
   ]
  },
  {
   "cell_type": "code",
   "execution_count": 91,
   "id": "f6e837b9-fcf0-4d78-8f85-4fa95e95dc1a",
   "metadata": {},
   "outputs": [
    {
     "data": {
      "text/plain": [
       "<AxesSubplot:>"
      ]
     },
     "execution_count": 91,
     "metadata": {},
     "output_type": "execute_result"
    },
    {
     "data": {
      "image/png": "[encoded data removed]",
      "text/plain": [
       "<Figure size 432x288 with 1 Axes>"
      ]
     },
     "metadata": {
      "needs_background": "light"
     },
     "output_type": "display_data"
    }
   ],
   "source": [
    "import seaborn as sns\n",
    "daney = ['background','necrotic and non-enhancing tumor','edema','enhancing tumor']\n",
    "danex = [zero,first,second,fourth]\n",
    "sns.barplot(y = daney,x=danex, palette = 'magma')"
   ]
  },
  {
   "cell_type": "code",
   "execution_count": 89,
   "id": "2c208507-9595-4a05-a714-6ea483c5ac96",
   "metadata": {},
   "outputs": [
    {
     "data": {
      "text/plain": [
       "<AxesSubplot:>"
      ]
     },
     "execution_count": 89,
     "metadata": {},
     "output_type": "execute_result"
    },
    {
     "data": {
      "image/png": "[encoded data removed]",
      "text/plain": [
       "<Figure size 432x288 with 1 Axes>"
      ]
     },
     "metadata": {
      "needs_background": "light"
     },
     "output_type": "display_data"
    }
   ],
   "source": [
    "daney = ['necrotic and non-enhancing tumor','edema','enhancing tumor']\n",
    "danex = [first,second,fourth]\n",
    "sns.barplot(y = daney,x=danex, palette = 'magma')"
   ]
  },
  {
   "cell_type": "code",
   "execution_count": 1,
   "id": "48194b5d-dacc-4b62-ae20-051312d0276c",
   "metadata": {},
   "outputs": [
    {
     "data": {
      "text/plain": [
       "11086270"
      ]
     },
     "execution_count": 1,
     "metadata": {},
     "output_type": "execute_result"
    }
   ],
   "source": []
  },
  {
   "cell_type": "code",
   "execution_count": 17,
   "id": "89e973e1-f16c-4a38-af76-e261e8463eea",
   "metadata": {},
   "outputs": [],
   "source": [
    "def weights_of_classes(amount):\n",
    "    zero = amount[0]/amount[0]\n",
    "    one = amount[0]/amount[1]\n",
    "    two = amount[0]/amount[2]\n",
    "    three = amount[0]/amount[3]\n",
    "    l = [zero,one,two,three]\n",
    "    return l\n",
    "amount = [zero,first,second,fourth]\n",
    "L  = weights_of_classes(amount)"
   ]
  },
  {
   "cell_type": "code",
   "execution_count": 18,
   "id": "12be8c54-866d-4403-a689-de274ed5ab12",
   "metadata": {},
   "outputs": [
    {
     "data": {
      "text/plain": [
       "[1.0, 42.2593220417982, 38.40871403060926, 77.42359733543223]"
      ]
     },
     "execution_count": 18,
     "metadata": {},
     "output_type": "execute_result"
    }
   ],
   "source": [
    "L"
   ]
  },
  {
   "cell_type": "code",
   "execution_count": 20,
   "id": "5c977138-d34c-47b2-aed8-1bfd29a92812",
   "metadata": {},
   "outputs": [
    {
     "data": {
      "text/plain": [
       "[0.012915958886120611, 0.545819666047196, 0.4960853712881131, 1.0]"
      ]
     },
     "execution_count": 20,
     "metadata": {},
     "output_type": "execute_result"
    }
   ],
   "source": [
    "def weights_of_classes_2(amount):\n",
    "    zero = amount[0]/amount[3]\n",
    "    one = amount[1]/amount[3]\n",
    "    two = amount[2]/amount[3]\n",
    "    three = amount[3]/amount[3]\n",
    "    l = [zero,one,two,three]\n",
    "    return l\n",
    "x = weights_of_classes(L)\n",
    "x"
   ]
  },
  {
   "cell_type": "code",
   "execution_count": null,
   "id": "0dd961c0-86ca-4769-805e-4c5fca2ea950",
   "metadata": {},
   "outputs": [],
   "source": []
  }
 ],
 "metadata": {
  "kernelspec": {
   "display_name": "Python 3 (ipykernel)",
   "language": "python",
   "name": "python3"
  },
  "language_info": {
   "codemirror_mode": {
    "name": "ipython",
    "version": 3
   },
   "file_extension": ".py",
   "mimetype": "text/x-python",
   "name": "python",
   "nbconvert_exporter": "python",
   "pygments_lexer": "ipython3",
   "version": "3.8.0"
  }
 },
 "nbformat": 4,
 "nbformat_minor": 5
}
