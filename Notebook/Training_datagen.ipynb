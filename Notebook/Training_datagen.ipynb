{
 "cells": [
  {
   "cell_type": "code",
   "execution_count": 1,
   "id": "4f8e68ff-e2d0-4642-80ee-4948c51c5ebe",
   "metadata": {},
   "outputs": [
    {
     "name": "stdout",
     "output_type": "stream",
     "text": [
      "Segmentation Models: using `keras` framework.\n"
     ]
    }
   ],
   "source": [
    "import numpy as np \n",
    "import os\n",
    "import numpy as np\n",
    "from keras.models import *\n",
    "from keras.layers import *\n",
    "from keras.optimizers import *\n",
    "from keras.models import *\n",
    "from keras.layers import *\n",
    "from keras import initializers\n",
    "from keras import backend as K\n",
    "import tensorflow as tf\n",
    "import numpy as np \n",
    "import os\n",
    "from keras.callbacks import ModelCheckpoint, LearningRateScheduler\n",
    "import segmentation_models as sm\n",
    "from keras.losses import categorical_crossentropy\n",
    "\n",
    "import tensorflow as tf\n",
    "\n",
    "import sys\n",
    "    \n",
    "sys.path.insert(1,r\"C:\\Users\\adame\\Desktop\\Inzynierka\")"
   ]
  },
  {
   "cell_type": "code",
   "execution_count": 2,
   "id": "0ce817a2-13c1-4b38-86aa-ab73063b0fe1",
   "metadata": {},
   "outputs": [],
   "source": [
    "from generator import image_load_generator_x,image_load_generator_mask,image_load_generator_mask_binary,image_load_generator_mask_nocat\n"
   ]
  },
  {
   "cell_type": "code",
   "execution_count": 3,
   "id": "d56b6782-235c-45f1-a166-66da63cb58ee",
   "metadata": {},
   "outputs": [
    {
     "name": "stderr",
     "output_type": "stream",
     "text": [
      "C:\\anaconda3\\envs\\machine\\lib\\site-packages\\IPython\\html.py:12: ShimWarning: The `IPython.html` package has been deprecated since IPython 4.0. You should import from `notebook` instead. `IPython.html.widgets` has moved to `ipywidgets`.\n",
      "  warn(\"The `IPython.html` package has been deprecated since IPython 4.0. \"\n",
      "\u001b[34m\u001b[1mwandb\u001b[0m: Currently logged in as: \u001b[33madamsoja\u001b[0m. Use \u001b[1m`wandb login --relogin`\u001b[0m to force relogin\n"
     ]
    },
    {
     "data": {
      "text/html": [
       "Tracking run with wandb version 0.13.5"
      ],
      "text/plain": [
       "<IPython.core.display.HTML object>"
      ]
     },
     "metadata": {},
     "output_type": "display_data"
    },
    {
     "data": {
      "text/html": [
       "Run data is saved locally in <code>C:\\Users\\adame\\Desktop\\Inzynierka\\Notebook\\wandb\\run-20221112_161118-3fd0s63q</code>"
      ],
      "text/plain": [
       "<IPython.core.display.HTML object>"
      ]
     },
     "metadata": {},
     "output_type": "display_data"
    },
    {
     "data": {
      "text/html": [
       "Syncing run <strong><a href=\"https://wandb.ai/adamsoja/Model_iou_cat_dice/runs/3fd0s63q\" target=\"_blank\">icy-field-15</a></strong> to <a href=\"https://wandb.ai/adamsoja/Model_iou_cat_dice\" target=\"_blank\">Weights & Biases</a> (<a href=\"https://wandb.me/run\" target=\"_blank\">docs</a>)<br/>"
      ],
      "text/plain": [
       "<IPython.core.display.HTML object>"
      ]
     },
     "metadata": {},
     "output_type": "display_data"
    },
    {
     "data": {
      "text/html": [
       "<button onClick=\"this.nextSibling.style.display='block';this.style.display='none';\">Display W&B run</button><iframe src=\"https://wandb.ai/adamsoja/Model_iou_cat_dice/runs/3fd0s63q?jupyter=true\" style=\"border:none;width:100%;height:420px;display:none;\"></iframe>"
      ],
      "text/plain": [
       "<wandb.sdk.wandb_run.Run at 0x15a9f2f3670>"
      ]
     },
     "execution_count": 3,
     "metadata": {},
     "output_type": "execute_result"
    }
   ],
   "source": [
    "import wandb\n",
    "from wandb.keras import WandbCallback\n",
    "\n",
    "wandb.init(project=\"Model_iou_cat_dice\", entity=\"adamsoja\")\n",
    "\n",
    "\n"
   ]
  },
  {
   "cell_type": "code",
   "execution_count": 4,
   "id": "2efc5b36-2664-4314-aa9e-7b2921bb4009",
   "metadata": {},
   "outputs": [
    {
     "ename": "FileNotFoundError",
     "evalue": "[WinError 3] System nie może odnaleźć określonej ścieżki: '../brains/train/mask'",
     "output_type": "error",
     "traceback": [
      "\u001b[1;31m---------------------------------------------------------------------------\u001b[0m",
      "\u001b[1;31mFileNotFoundError\u001b[0m                         Traceback (most recent call last)",
      "\u001b[1;32m~\\AppData\\Local\\Temp\\ipykernel_15000\\3710100536.py\u001b[0m in \u001b[0;36m<cell line: 9>\u001b[1;34m()\u001b[0m\n\u001b[0;32m      7\u001b[0m \u001b[1;32mimport\u001b[0m \u001b[0mos\u001b[0m\u001b[1;33m\u001b[0m\u001b[1;33m\u001b[0m\u001b[0m\n\u001b[0;32m      8\u001b[0m \u001b[1;33m\u001b[0m\u001b[0m\n\u001b[1;32m----> 9\u001b[1;33m \u001b[0msteps_train\u001b[0m \u001b[1;33m=\u001b[0m \u001b[0mlen\u001b[0m\u001b[1;33m(\u001b[0m\u001b[0mos\u001b[0m\u001b[1;33m.\u001b[0m\u001b[0mlistdir\u001b[0m\u001b[1;33m(\u001b[0m\u001b[1;34m'../brains/train/mask'\u001b[0m\u001b[1;33m)\u001b[0m\u001b[1;33m)\u001b[0m \u001b[1;33m//\u001b[0m \u001b[0mbatch_size\u001b[0m\u001b[1;33m\u001b[0m\u001b[1;33m\u001b[0m\u001b[0m\n\u001b[0m\u001b[0;32m     10\u001b[0m \u001b[0msteps_val\u001b[0m \u001b[1;33m=\u001b[0m \u001b[0mlen\u001b[0m\u001b[1;33m(\u001b[0m\u001b[0mos\u001b[0m\u001b[1;33m.\u001b[0m\u001b[0mlistdir\u001b[0m\u001b[1;33m(\u001b[0m\u001b[1;34m'../brains/valid/mask'\u001b[0m\u001b[1;33m)\u001b[0m\u001b[1;33m)\u001b[0m \u001b[1;33m//\u001b[0m \u001b[0mbatch_size\u001b[0m\u001b[1;33m\u001b[0m\u001b[1;33m\u001b[0m\u001b[0m\n\u001b[0;32m     11\u001b[0m \u001b[1;33m\u001b[0m\u001b[0m\n",
      "\u001b[1;31mFileNotFoundError\u001b[0m: [WinError 3] System nie może odnaleźć określonej ścieżki: '../brains/train/mask'"
     ]
    }
   ],
   "source": [
    "batch_size = 6\n",
    "train_X = image_load_generator_x('../brains/train',batch_size)\n",
    "train_mask_gen = image_load_generator_mask('../brains/train',batch_size)\n",
    "\n",
    "val_X = image_load_generator_x('../brains/valid',batch_size)\n",
    "val_mask_gen = image_load_generator_mask('../brains/valid',batch_size)\n",
    "import os\n",
    "\n",
    "steps_train = len(os.listdir('../brains/train/mask')) // batch_size\n",
    "steps_val = len(os.listdir('../brains/valid/mask')) // batch_size\n",
    "\n"
   ]
  },
  {
   "cell_type": "code",
   "execution_count": null,
   "id": "437fb6c4-9e9b-4d93-a9ce-b0fd8082a145",
   "metadata": {},
   "outputs": [],
   "source": [
    "train_datagen = zip(train_X,train_mask_gen)\n",
    "val_datagen = zip(val_X,val_mask_gen)"
   ]
  },
  {
   "cell_type": "code",
   "execution_count": null,
   "id": "7db60c4f-2749-46af-9d7f-2ef3f6f3ec5a",
   "metadata": {},
   "outputs": [],
   "source": [
    "dice_loss = sm.losses.DiceLoss(class_weights=np.array([0.25,0.25,0.25,0.25])) \n",
    "focal_loss = sm.losses.CategoricalFocalLoss()\n",
    "total_loss = dice_loss + (3 * focal_loss)\n",
    "metrics = [sm.metrics.IOUScore(), sm.metrics.FScore()]\n"
   ]
  },
  {
   "cell_type": "code",
   "execution_count": 7,
   "id": "73c161cd-34b4-4149-b97a-f80527542618",
   "metadata": {},
   "outputs": [],
   "source": [
    "def dice_coef(y_true, y_pred, smooth=1.0):\n",
    "    ''' Dice Coefficient\n",
    "    Args:\n",
    "        y_true (np.array): Ground Truth Heatmap (Label)\n",
    "        y_pred (np.array): Prediction Heatmap\n",
    "    '''\n",
    "\n",
    "    class_num = 4\n",
    "    for i in range(class_num):\n",
    "        y_true_f = K.flatten(y_true[:,:,:,i])\n",
    "        y_pred_f = K.flatten(y_pred[:,:,:,i])\n",
    "        intersection = K.sum(y_true_f * y_pred_f)\n",
    "        loss = ((2. * intersection + smooth) / (K.sum(y_true_f) + K.sum(y_pred_f) + smooth))\n",
    "        if i == 0:\n",
    "            total_loss = loss\n",
    "        else:\n",
    "            total_loss = total_loss + loss\n",
    "    total_loss = total_loss / class_num\n",
    "    return total_loss\n",
    "\n",
    "\n",
    "def dice_coef_loss(y_true, y_pred):\n",
    "    ''' Dice Coefficient Loss\n",
    "    Args:\n",
    "        y_true (np.array): Ground Truth Heatmap (Label)\n",
    "        y_pred (np.array): Prediction Heatmap\n",
    "    '''\n",
    "    return 1-dice_coef(y_true, y_pred)\n",
    "\n",
    "\n",
    "metrics = [tf.keras.metrics.MeanIoU(num_classes=4),'accuracy',dice_coef]"
   ]
  },
  {
   "cell_type": "code",
   "execution_count": null,
   "id": "e194e1a4-4fb3-4f8b-a548-83a62d970483",
   "metadata": {},
   "outputs": [],
   "source": [
    "\n",
    "def multi_unet_model(n_classes=4, IMG_HEIGHT=240, IMG_WIDTH=240, IMG_CHANNELS=1):\n",
    "    #Build the model\n",
    "    inputs = Input((IMG_HEIGHT, IMG_WIDTH, IMG_CHANNELS))\n",
    "    #s = Lambda(lambda x: x / 255)(inputs)   #No need for this if we normalize our inputs beforehand\n",
    "    s = inputs\n",
    "\n",
    "    #Contraction path\n",
    "    c1 = Conv2D(16, (3, 3), activation='relu', kernel_initializer='he_normal', padding='same')(s)\n",
    "    c1 = Dropout(0.6)(c1)\n",
    "    c1 = Conv2D(16, (3, 3), activation='relu', kernel_initializer='he_normal', padding='same')(c1)\n",
    "    p1 = MaxPooling2D((2, 2))(c1)\n",
    "    \n",
    "    c2 = Conv2D(32, (3, 3), activation='relu', kernel_initializer='he_normal', padding='same')(p1)\n",
    "    c2 = Dropout(0.1)(c2)\n",
    "    c2 = Conv2D(32, (3, 3), activation='relu', kernel_initializer='he_normal', padding='same')(c2)\n",
    "    p2 = MaxPooling2D((2, 2))(c2)\n",
    "     \n",
    "    c3 = Conv2D(64, (3, 3), activation='relu', kernel_initializer='he_normal', padding='same')(p2)\n",
    "    c3 = Dropout(0.2)(c3)\n",
    "    c3 = Conv2D(64, (3, 3), activation='relu', kernel_initializer='he_normal', padding='same')(c3)\n",
    "    p3 = MaxPooling2D((2, 2))(c3)\n",
    "     \n",
    "    c4 = Conv2D(128, (3, 3), activation='relu', kernel_initializer='he_normal', padding='same')(p3)\n",
    "    c4 = Dropout(0.2)(c4)\n",
    "    c4 = Conv2D(128, (3, 3), activation='relu', kernel_initializer='he_normal', padding='same')(c4)\n",
    "    p4 = MaxPooling2D(pool_size=(2, 2))(c4)\n",
    "     \n",
    "    c5 = Conv2D(256, (3, 3), activation='relu', kernel_initializer='he_normal', padding='same')(p4)\n",
    "    c5 = Dropout(0.1)(c5)\n",
    "    c5 = Conv2D(256, (3, 3), activation='relu', kernel_initializer='he_normal', padding='same')(c5)\n",
    "    \n",
    "    #Expansive path \n",
    "    u6 = Conv2DTranspose(128, (2, 2), strides=(2, 2), padding='same')(c5)\n",
    "    u6 = concatenate([u6, c4])\n",
    "    c6 = Conv2D(128, (3, 3), activation='relu', kernel_initializer='he_normal', padding='same')(u6)\n",
    "    c6 = Dropout(0.2)(c6)\n",
    "    c6 = Conv2D(128, (3, 3), activation='relu', kernel_initializer='he_normal', padding='same')(c6)\n",
    "     \n",
    "    u7 = Conv2DTranspose(64, (2, 2), strides=(2, 2), padding='same')(c6)\n",
    "    u7 = concatenate([u7, c3])\n",
    "    c7 = Conv2D(64, (3, 3), activation='relu', kernel_initializer='he_normal', padding='same')(u7)\n",
    "    c7 = Dropout(0.2)(c7)\n",
    "    c7 = Conv2D(64, (3, 3), activation='relu', kernel_initializer='he_normal', padding='same')(c7)\n",
    "     \n",
    "    u8 = Conv2DTranspose(32, (2, 2), strides=(2, 2), padding='same')(c7)\n",
    "    u8 = concatenate([u8, c2])\n",
    "    c8 = Conv2D(32, (3, 3), activation='relu', kernel_initializer='he_normal', padding='same')(u8)\n",
    "    c8 = Dropout(0.1)(c8)\n",
    "    c8 = Conv2D(32, (3, 3), activation='relu', kernel_initializer='he_normal', padding='same')(c8)\n",
    "     \n",
    "    u9 = Conv2DTranspose(16, (2, 2), strides=(2, 2), padding='same')(c8)\n",
    "    u9 = concatenate([u9, c1], axis=3)\n",
    "    c9 = Conv2D(16, (3, 3), activation='relu', kernel_initializer='he_normal', padding='same')(u9)\n",
    "    c9 = Dropout(0.6)(c9)\n",
    "    c9 = Conv2D(16, (3, 3), activation='relu', kernel_initializer='he_normal', padding='same')(c9)\n",
    "     \n",
    "    outputs = Conv2D(n_classes, (1, 1), activation='softmax')(c9)\n",
    "     \n",
    "    model = Model(inputs=[inputs], outputs=[outputs])\n",
    "\n",
    "    return model\n",
    "\n",
    "\n",
    "import keras\n",
    "opt = keras.optimizers.Adam(learning_rate=0.0001)\n",
    "\n",
    "model = multi_unet_model(n_classes=4, IMG_HEIGHT=240, IMG_WIDTH=240, IMG_CHANNELS=1)\n",
    "\n",
    "\n",
    "\n",
    "model.compile(optimizer=opt, loss=total_loss, metrics=[metrics])\n",
    "\n",
    "#model.summary()\n"
   ]
  },
  {
   "cell_type": "code",
   "execution_count": null,
   "id": "bb362184-957b-4930-8aac-165b0e0a238a",
   "metadata": {},
   "outputs": [],
   "source": [
    "model.fit(train_datagen,\n",
    "                    steps_per_epoch = steps_train,\n",
    "                    verbose=1,\n",
    "                    epochs=15, \n",
    "                    validation_data=val_datagen, \n",
    "                    validation_steps = steps_val,\n",
    "                    shuffle=False,\n",
    "                    callbacks=[WandbCallback()],\n",
    "                   )\n",
    "                    \n",
    "    "
   ]
  },
  {
   "cell_type": "code",
   "execution_count": null,
   "id": "b3ce99d0-2429-47a4-a960-a3c9f932acd2",
   "metadata": {},
   "outputs": [],
   "source": [
    "model.save('../models/iou.h5')"
   ]
  },
  {
   "cell_type": "code",
   "execution_count": null,
   "id": "56f557b7-3288-40db-ba8c-91fbfae53e74",
   "metadata": {},
   "outputs": [],
   "source": [
    "def make_accuracy_plot(history):\n",
    "    \"\"\"\n",
    "    Accuracy plot of model \n",
    "    \"\"\"\n",
    "    import matplotlib.pyplot as plt\n",
    "    import seaborn as sns\n",
    "    sns.set()\n",
    "    acc, val_acc = history.history['dice_coef'], history.history['val_dice_coef']\n",
    "    epochs = range(1, len(acc) + 1)\n",
    "\n",
    "    plt.figure(figsize=(10, 8))\n",
    "    plt.plot(epochs, acc, label='Training dice', marker='o')\n",
    "    plt.plot(epochs, val_acc, label='Validation dice', marker='o')\n",
    "    plt.legend()\n",
    "    plt.title('Dokładność trenowania i walidacji')\n",
    "    plt.xlabel('Epoki')\n",
    "    plt.ylabel('Dice')\n",
    "    plt.show()\n",
    "\n",
    "def make_loss_plot(history):\n",
    "    \"\"\"\n",
    "    Loss plot of model\n",
    "    \"\"\"\n",
    "    import matplotlib.pyplot as plt\n",
    "    import seaborn as sns\n",
    "    sns.set()\n",
    "    loss, val_loss = history.history['loss'], history.history['val_loss']\n",
    "    epochs = range(1, len(loss) + 1)\n",
    "    \n",
    "    plt.figure(figsize=(10, 8))\n",
    "    plt.plot(epochs, loss, label='Training loss', marker='o')\n",
    "    plt.plot(epochs, val_loss, label='Validation loss', marker='o')\n",
    "    plt.legend()\n",
    "    plt.title('Strata trenowania i walidacji')\n",
    "    plt.xlabel('Epoki')\n",
    "    plt.ylabel('Strata')\n",
    "    plt.show()\n"
   ]
  },
  {
   "cell_type": "code",
   "execution_count": null,
   "id": "6b736c86-581f-49a3-9578-1125822f95c2",
   "metadata": {},
   "outputs": [],
   "source": [
    "make_accuracy_plot(history)"
   ]
  },
  {
   "cell_type": "code",
   "execution_count": null,
   "id": "f1966133-6de6-4357-a978-998627e99d82",
   "metadata": {},
   "outputs": [],
   "source": [
    "make_loss_plot(history)"
   ]
  },
  {
   "cell_type": "code",
   "execution_count": 1,
   "id": "549aa0c1-31ba-4275-b852-0607e355408c",
   "metadata": {},
   "outputs": [],
   "source": [
    "import sys\n",
    "    \n",
    "sys.path.insert(1,r\"C:\\Users\\adame\\Desktop\\Inzynierka\")"
   ]
  },
  {
   "cell_type": "code",
   "execution_count": 2,
   "id": "f04ff1da-e772-4097-9e8e-30dd4fe3741f",
   "metadata": {},
   "outputs": [],
   "source": [
    "import tensorflow as  tf\n",
    "import os"
   ]
  },
  {
   "cell_type": "code",
   "execution_count": 3,
   "id": "e81e0afe-de5e-4bfb-8d04-04d4d24f3e9b",
   "metadata": {},
   "outputs": [],
   "source": [
    "import numpy as np \n",
    "from generator import image_load_generator_x,image_load_generator_mask,image_load_generator_mask_nocat\n",
    "import keras\n",
    "import matplotlib.pyplot as plt\n",
    "import random\n",
    "import tensorflow as  tf\n",
    "path = '../brains/test'\n",
    "batch_size = 20\n",
    "files = os.listdir(f'{path}/brain')\n",
    "\n",
    "test_generator = image_load_generator_x(path,files,batch_size)\n",
    "mask_generator =image_load_generator_mask(path,files,batch_size)\n",
    "\n",
    "model = tf.keras.models.load_model('../models/dice_160x160_4channels.h5',compile=False)"
   ]
  },
  {
   "cell_type": "code",
   "execution_count": 4,
   "id": "3ffa41ef-085a-4620-9c2d-facfc322ff14",
   "metadata": {},
   "outputs": [
    {
     "name": "stdout",
     "output_type": "stream",
     "text": [
      "1/1 [==============================] - 9s 9s/step\n"
     ]
    },
    {
     "data": {
      "image/png": "[encoded data removed]",
      "text/plain": [
       "<Figure size 3000x2000 with 3 Axes>"
      ]
     },
     "metadata": {},
     "output_type": "display_data"
    }
   ],
   "source": [
    "X_test = next(test_generator)\n",
    "Y_test = next(mask_generator)\n",
    "\n",
    "y_pred = model.predict(X_test)\n",
    "\n",
    "predicted_img=np.argmax(y_pred,axis=3)\n",
    "number = random.randint(0,9)\n",
    "\n",
    "brain = X_test[number]\n",
    "plt.figure(figsize=(30, 20))\n",
    "plt.subplot(241)\n",
    "plt.title('Zdjecie mozgu')\n",
    "plt.imshow(brain)\n",
    "plt.subplot(242)\n",
    "plt.title('Segmentacja przez eksperta')\n",
    "plt.imshow(np.argmax(Y_test[number],axis=-1))\n",
    "plt.subplot(243)\n",
    "plt.title('Segmentacja przez sieć')\n",
    "plt.imshow(predicted_img[number])\n",
    "\n",
    "plt.show()"
   ]
  },
  {
   "cell_type": "code",
   "execution_count": null,
   "id": "dad77b78-57e9-4af9-b0dd-fe78d75063eb",
   "metadata": {},
   "outputs": [],
   "source": []
  },
  {
   "cell_type": "code",
   "execution_count": 6,
   "id": "816a85fe-f750-4726-936c-315727a8d110",
   "metadata": {},
   "outputs": [
    {
     "name": "stdout",
     "output_type": "stream",
     "text": [
      "Mean IoU = 0.8229202\n"
     ]
    }
   ],
   "source": [
    "from keras.metrics import MeanIoU\n",
    "n_classes = 4\n",
    "masks = np.argmax(Y_test,axis=3)\n",
    "IOU_keras = MeanIoU(num_classes=n_classes)  \n",
    "IOU_keras.update_state(masks,predicted_img)\n",
    "print(\"Mean IoU =\", IOU_keras.result().numpy())"
   ]
  },
  {
   "cell_type": "code",
   "execution_count": 7,
   "id": "e57957ac-df9a-4616-ae8a-7e256be6bd25",
   "metadata": {},
   "outputs": [
    {
     "name": "stdout",
     "output_type": "stream",
     "text": [
      "IoU for background is:  0.990147\n",
      "IoU for label 1 is:  0.7863927\n",
      "IoU for label 2 is:  0.68191326\n",
      "IoU for label 4 is:  0.833228\n"
     ]
    }
   ],
   "source": [
    "#To calculate I0U for each class...\n",
    "values = np.array(IOU_keras.get_weights()).reshape(n_classes, n_classes)\n",
    "class1_IoU = values[0,0]/(values[0,0] + values[0,1] + values[0,2] + values[0,3] + values[1,0]+ values[2,0]+ values[3,0])\n",
    "class2_IoU = values[1,1]/(values[1,1] + values[1,0] + values[1,2] + values[1,3] + values[0,1]+ values[2,1]+ values[3,1])\n",
    "class3_IoU = values[2,2]/(values[2,2] + values[2,0] + values[2,1] + values[2,3] + values[0,2]+ values[1,2]+ values[3,2])\n",
    "class4_IoU = values[3,3]/(values[3,3] + values[3,0] + values[3,1] + values[3,2] + values[0,3]+ values[1,3]+ values[2,3])\n",
    "\n",
    "print(\"IoU for background is: \", class1_IoU)\n",
    "print(\"IoU for label 1 is: \", class2_IoU)\n",
    "print(\"IoU for label 2 is: \", class3_IoU)\n",
    "print(\"IoU for label 4 is: \", class4_IoU)"
   ]
  },
  {
   "cell_type": "code",
   "execution_count": null,
   "id": "e6d17b7d-49f3-4fee-acb4-598bb4ab03da",
   "metadata": {},
   "outputs": [],
   "source": [
    "table = wandb.Table(columns=['ID', 'Image'])\n",
    "\n",
    "train_X2 = image_load_generator_x('../brains/train',batch_size)\n",
    "train_mask_gen2 = image_load_generator_mask_nocat('../brains/train',batch_size)\n",
    "\n",
    "\n",
    "class_labels = {\n",
    "  0: \"background\",\n",
    "  1: \"necrotic and non-enhancing tumor\",\n",
    "  2: \"edema\",\n",
    "    4: 'enhancing tumor'\n",
    "}\n",
    "\n",
    "\n",
    "images = next(train_X2)\n",
    "labels = next(train_mask_gen2)\n",
    "\n",
    "for i in range(batch_size):\n",
    "    img = images[i]\n",
    "    \n",
    "    wandb.log(\n",
    "  {\"my_image_key\" : wandb.Image(img[:,:,2], masks={\n",
    "    \"predictions\" : {\n",
    "        \"mask_data\" : labels[i],\n",
    "        \"class_labels\" : class_labels\n",
    "    },\n",
    "    \"ground_truth\" : {\n",
    "        \"mask_data\" : labels[i],\n",
    "        \"class_labels\" : class_labels\n",
    "    }\n",
    "})})\n",
    "\n"
   ]
  },
  {
   "cell_type": "code",
   "execution_count": null,
   "id": "033df2ea-f23f-459f-a6b2-58df535854b0",
   "metadata": {},
   "outputs": [],
   "source": [
    "                flipped = tf.image.flip_left_right(X_train)\n",
    "                x_train.append(flipped)\n",
    "                \n",
    "                rotated = tf.image.rot90(X_train)\n",
    "                x_train.append(rotated)\n",
    "                \n",
    "                rotated2 = tf.image.rot90(rotated)\n",
    "                x_train.append(rotated2)\n",
    "                \n",
    "                \n",
    "                flipped = tf.image.flip_left_right(X_train)\n",
    "                x_train.append(flipped)\n",
    "                \n",
    "                rotated = tf.image.rot90(X_train)\n",
    "                x_train.append(rotated)\n",
    "                \n",
    "                rotated2 = tf.image.rot90(rotated)\n",
    "                x_train.append(rotated2)\n",
    "                "
   ]
  },
  {
   "cell_type": "code",
   "execution_count": 1,
   "id": "ddf5ad8f-1e20-4830-919b-d16f3813d1aa",
   "metadata": {},
   "outputs": [
    {
     "data": {
      "text/plain": [
       "array([1., 1., 1., 1.])"
      ]
     },
     "execution_count": 1,
     "metadata": {},
     "output_type": "execute_result"
    }
   ],
   "source": [
    "import numpy as np\n",
    "np.ones(4)"
   ]
  },
  {
   "cell_type": "code",
   "execution_count": null,
   "id": "a7585329-7d4b-4374-8b38-8b79bd2cd2ac",
   "metadata": {},
   "outputs": [],
   "source": []
  }
 ],
 "metadata": {
  "kernelspec": {
   "display_name": "Python 3 (ipykernel)",
   "language": "python",
   "name": "python3"
  },
  "language_info": {
   "codemirror_mode": {
    "name": "ipython",
    "version": 3
   },
   "file_extension": ".py",
   "mimetype": "text/x-python",
   "name": "python",
   "nbconvert_exporter": "python",
   "pygments_lexer": "ipython3",
   "version": "3.8.15"
  }
 },
 "nbformat": 4,
 "nbformat_minor": 5
}
