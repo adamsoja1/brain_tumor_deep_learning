{
 "cells": [
  {
   "cell_type": "code",
   "execution_count": 1,
   "id": "653d8e39-2483-491c-9905-65d8d851e752",
   "metadata": {},
   "outputs": [],
   "source": [
    "import os\n",
    "import nibabel as nib\n",
    "import numpy as np"
   ]
  },
  {
   "cell_type": "code",
   "execution_count": 10,
   "id": "b8edf2b7-ea01-4d42-ad4a-6b44e110f3bb",
   "metadata": {},
   "outputs": [],
   "source": [
    "path = '../RSNA_ASNR_MICCAI_BraTS2021_TrainingData_16July2021'\n",
    "files = os.listdir(path)\n"
   ]
  },
  {
   "cell_type": "code",
   "execution_count": 15,
   "id": "6e36ce17-6208-403c-a939-8f00f1f89354",
   "metadata": {},
   "outputs": [],
   "source": [
    "def read_max_val(path,files):\n",
    "    maxval = 0\n",
    "    for file in files:\n",
    "        img = nib.load(f'{path}/{file}/{file}_t1.nii.gz').get_fdata()\n",
    "        \n",
    "        image=np.array(img)\n",
    "        \n",
    "        temp = image.max()\n",
    "        if temp>maxval:\n",
    "            maxval = temp\n",
    "        \n",
    "    return maxval\n",
    "        \n",
    "        \n",
    "        \n",
    "    \n",
    "    \n",
    "        \n",
    "    \n",
    "    "
   ]
  },
  {
   "cell_type": "code",
   "execution_count": 16,
   "id": "b6d95766-6366-4315-94a0-368330e286d9",
   "metadata": {},
   "outputs": [
    {
     "data": {
      "text/plain": [
       "150107.859375"
      ]
     },
     "execution_count": 16,
     "metadata": {},
     "output_type": "execute_result"
    }
   ],
   "source": [
    "read_max_val(path,files)"
   ]
  },
  {
   "cell_type": "code",
   "execution_count": null,
   "id": "999b315d-4372-4d2c-8451-043ff246968e",
   "metadata": {},
   "outputs": [],
   "source": [
    "1905559.25\n",
    "1941774.625 #t1ce \n",
    "2120537.0 # we wszystkich plikach t1ce\n",
    "612366.4375 # we wszystkich plikach flair"
   ]
  },
  {
   "cell_type": "code",
   "execution_count": 5,
   "id": "ebac53de-00c3-4f63-acbc-594820390abe",
   "metadata": {},
   "outputs": [
    {
     "data": {
      "text/plain": [
       "'BraTS2021_01163'"
      ]
     },
     "execution_count": 5,
     "metadata": {},
     "output_type": "execute_result"
    }
   ],
   "source": [
    "maxval = np.argmax(vals)\n",
    "\n",
    "file[maxval]"
   ]
  },
  {
   "cell_type": "code",
   "execution_count": 9,
   "id": "15e63a3c-f762-4000-9ada-6e9b567854ed",
   "metadata": {},
   "outputs": [
    {
     "data": {
      "text/plain": [
       "1941774.625"
      ]
     },
     "execution_count": 9,
     "metadata": {},
     "output_type": "execute_result"
    }
   ],
   "source": [
    "max(vals)"
   ]
  },
  {
   "cell_type": "code",
   "execution_count": 56,
   "id": "a58d4bcc-b35f-419f-9069-0e01242b4a59",
   "metadata": {},
   "outputs": [],
   "source": [
    "def image_load_nibabel(path,files,batch_size):\n",
    "    L = len(files)\n",
    "    while True:\n",
    "        batch_start = 0\n",
    "        batch_size_end = batch_size\n",
    "        while batch_start < L:\n",
    "            limit = min(batch_size_end,L)\n",
    "            \n",
    "            files_batched = files[batch_start:limit]\n",
    "            \n",
    "            #loading data\n",
    "            x_train = []\n",
    "            \n",
    "            for file in files_batched:\n",
    "                \n",
    "                X_train = nib.load(f'{path}/{file}/{file}_t1ce.nii.gz').get_fdata()\n",
    "                xyz = X_train[:,:,60:115]\n",
    "                xyz = np.array(xyz)\n",
    "                x_train.append(X_train)\n",
    "                \n",
    "            x_train = np.array(x_train)\n",
    "\n",
    "           \n",
    "            yield(x_train)\n",
    "            \n",
    "            batch_start +=batch_size\n",
    "            batch_size_end +=batch_size\n",
    "            "
   ]
  },
  {
   "cell_type": "code",
   "execution_count": 57,
   "id": "a8fff372-64c8-4401-a87b-83aa92fb9918",
   "metadata": {},
   "outputs": [
    {
     "data": {
      "text/plain": [
       "24706.0"
      ]
     },
     "execution_count": 57,
     "metadata": {},
     "output_type": "execute_result"
    }
   ],
   "source": [
    "batch_size = 50\n",
    "x = image_load_nibabel(path,files,batch_size)\n",
    "y = next(x)\n",
    "y.max()"
   ]
  },
  {
   "cell_type": "code",
   "execution_count": null,
   "id": "f4c5b6fe-2ca6-4f47-835e-80e34ca07b45",
   "metadata": {},
   "outputs": [],
   "source": []
  }
 ],
 "metadata": {
  "kernelspec": {
   "display_name": "Python 3 (ipykernel)",
   "language": "python",
   "name": "python3"
  },
  "language_info": {
   "codemirror_mode": {
    "name": "ipython",
    "version": 3
   },
   "file_extension": ".py",
   "mimetype": "text/x-python",
   "name": "python",
   "nbconvert_exporter": "python",
   "pygments_lexer": "ipython3",
   "version": "3.8.0"
  }
 },
 "nbformat": 4,
 "nbformat_minor": 5
}
