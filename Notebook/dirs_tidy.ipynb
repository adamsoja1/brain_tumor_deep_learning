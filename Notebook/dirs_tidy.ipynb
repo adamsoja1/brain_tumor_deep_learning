{
 "cells": [
  {
   "cell_type": "code",
   "execution_count": 1,
   "id": "83f1812b-657c-47e6-b55e-bc06effe2457",
   "metadata": {},
   "outputs": [],
   "source": [
    "import os\n",
    "import shutil\n",
    "import nibabel as nib\n",
    "import matplotlib.pyplot as plt\n",
    "import numpy as np\n",
    "import cv2"
   ]
  },
  {
   "cell_type": "code",
   "execution_count": 2,
   "id": "09e7ddf8-a0a7-4542-aeb7-3143ab3f1df9",
   "metadata": {},
   "outputs": [],
   "source": [
    "main_folder = 'RSNA_ASNR_MICCAI_BraTS2021_TrainingData_16July2021'\n",
    "base_dir = 'brains'\n",
    "if not os.path.exists(base_dir):\n",
    "    os.mkdir(base_dir)\n",
    "    \n",
    "train_dir  = os.path.join(base_dir,'train')\n",
    "test_dir  = os.path.join(base_dir,'test')\n",
    "valid_dir  = os.path.join(base_dir,'valid')\n",
    "for directory in (train_dir, valid_dir, test_dir):\n",
    "    if not os.path.exists(directory):\n",
    "        os.mkdir(directory)\n",
    "        \n",
    "brain3_dir = os.path.join(train_dir, 'brain3')\n",
    "seg3_dir = os.path.join(train_dir, 'seg3')\n",
    "dirs = [brain3_dir,seg3_dir ]\n",
    "for directory in dirs:\n",
    "    if not os.path.exists(directory):\n",
    "        os.mkdir(directory)\n"
   ]
  },
  {
   "cell_type": "code",
   "execution_count": 3,
   "id": "5382b87d-32bc-43b0-9cc5-7cef8c110f82",
   "metadata": {},
   "outputs": [],
   "source": [
    "dirs = sorted(os.listdir(main_folder))"
   ]
  },
  {
   "cell_type": "code",
   "execution_count": 4,
   "id": "e16986f0-d652-45e2-8756-eeda0baed965",
   "metadata": {
    "tags": []
   },
   "outputs": [
    {
     "name": "stderr",
     "output_type": "stream",
     "text": [
      "C:\\Users\\adame\\AppData\\Local\\Temp\\ipykernel_16816\\3430616332.py:7: RuntimeWarning: invalid value encountered in true_divide\n",
      "  img_seg = (img_seg/img_seg.max()) * 255\n"
     ]
    }
   ],
   "source": [
    "for dr in range(1200):\n",
    "    \n",
    "    number_of_image = dirs[dr][-5:]\n",
    "    \n",
    "    image_seg = nib.load(f'{main_folder}/{dirs[dr]}/BraTS2021_{number_of_image}_seg.nii.gz').get_fdata()    \n",
    "    img_seg = image_seg[:,:,80]\n",
    "    img_seg = (img_seg/img_seg.max()) * 255\n",
    "    \n",
    "    cv2.imwrite(f'brains/train/seg3/{number_of_image}.png',img_seg.T)\n",
    "    \n",
    "\n",
    "    image_t1ce = nib.load(f'{main_folder}/{dirs[dr]}/BraTS2021_{number_of_image}_flair.nii.gz').get_fdata()    \n",
    "    img_t1ce = image_t1ce[:,:,80]\n",
    "    img_t1ce = (img_t1ce/img_t1ce.max()) * 255\n",
    "    cv2.imwrite(f'brains/train/brain3/{number_of_image}.png',img_t1ce.T)\n",
    "    \n",
    "    "
   ]
  },
  {
   "cell_type": "code",
   "execution_count": 5,
   "id": "5ed47c39-3658-4d80-adf7-ffb12e90399d",
   "metadata": {},
   "outputs": [],
   "source": [
    "image_seg = nib.load(f'{main_folder}/BraTS2021_00002/BraTS2021_00002_seg.nii.gz').get_fdata()    \n",
    "img_seg = image_seg[:,:,80]\n"
   ]
  },
  {
   "cell_type": "code",
   "execution_count": 6,
   "id": "f8876cc0-8ea4-4593-a907-e9c5ed2affdb",
   "metadata": {},
   "outputs": [
    {
     "data": {
      "text/plain": [
       "<matplotlib.image.AxesImage at 0x209d07b1430>"
      ]
     },
     "execution_count": 6,
     "metadata": {},
     "output_type": "execute_result"
    },
    {
     "data": {
      "image/png": "[encoded data removed]",
      "text/plain": [
       "<Figure size 432x288 with 1 Axes>"
      ]
     },
     "metadata": {
      "needs_background": "light"
     },
     "output_type": "display_data"
    }
   ],
   "source": [
    "plt.imshow(img_seg.T)"
   ]
  },
  {
   "cell_type": "code",
   "execution_count": 7,
   "id": "1d1f2d2a-664e-4e95-b4db-6212a308a347",
   "metadata": {},
   "outputs": [
    {
     "ename": "SyntaxError",
     "evalue": "invalid syntax (1159082735.py, line 2)",
     "output_type": "error",
     "traceback": [
      "\u001b[1;36m  File \u001b[1;32m\"C:\\Users\\adame\\AppData\\Local\\Temp\\ipykernel_16816\\1159082735.py\"\u001b[1;36m, line \u001b[1;32m2\u001b[0m\n\u001b[1;33m    files = os.\u001b[0m\n\u001b[1;37m               ^\u001b[0m\n\u001b[1;31mSyntaxError\u001b[0m\u001b[1;31m:\u001b[0m invalid syntax\n"
     ]
    }
   ],
   "source": [
    "def load_data_png():\n",
    "    files = os.\n",
    "    for file in \n"
   ]
  },
  {
   "cell_type": "code",
   "execution_count": null,
   "id": "9eb1ab19-2372-4795-8b64-49f6eb7c39ca",
   "metadata": {},
   "outputs": [],
   "source": []
  }
 ],
 "metadata": {
  "kernelspec": {
   "display_name": "Python 3 (ipykernel)",
   "language": "python",
   "name": "python3"
  },
  "language_info": {
   "codemirror_mode": {
    "name": "ipython",
    "version": 3
   },
   "file_extension": ".py",
   "mimetype": "text/x-python",
   "name": "python",
   "nbconvert_exporter": "python",
   "pygments_lexer": "ipython3",
   "version": "3.8.0"
  }
 },
 "nbformat": 4,
 "nbformat_minor": 5
}
