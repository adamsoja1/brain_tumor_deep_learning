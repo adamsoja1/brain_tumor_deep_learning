{
 "cells": [
  {
   "cell_type": "code",
   "execution_count": 12,
   "id": "4f8e68ff-e2d0-4642-80ee-4948c51c5ebe",
   "metadata": {},
   "outputs": [],
   "source": [
    "import numpy as np \n",
    "import os\n",
    "import numpy as np\n",
    "from keras.models import *\n",
    "from keras.layers import *\n",
    "from keras.optimizers import *\n",
    "from keras.models import *\n",
    "from keras.layers import *\n",
    "from keras import initializers\n",
    "from keras import backend as K\n",
    "import tensorflow as tf\n",
    "import numpy as np \n",
    "import os\n",
    "from keras.callbacks import ModelCheckpoint, LearningRateScheduler\n",
    "\n",
    "from keras.losses import categorical_crossentropy\n",
    "\n",
    "import tensorflow as tf"
   ]
  },
  {
   "cell_type": "code",
   "execution_count": 13,
   "id": "0ce817a2-13c1-4b38-86aa-ab73063b0fe1",
   "metadata": {},
   "outputs": [],
   "source": [
    "from generator import image_load_generator_x,image_load_generator_mask,image_load_generator_mask_binary\n"
   ]
  },
  {
   "cell_type": "code",
   "execution_count": 14,
   "id": "d56b6782-235c-45f1-a166-66da63cb58ee",
   "metadata": {},
   "outputs": [
    {
     "data": {
      "text/html": [
       "Finishing last run (ID:123h5h0f) before initializing another..."
      ],
      "text/plain": [
       "<IPython.core.display.HTML object>"
      ]
     },
     "metadata": {},
     "output_type": "display_data"
    },
    {
     "data": {
      "text/html": [
       "Waiting for W&B process to finish... <strong style=\"color:green\">(success).</strong>"
      ],
      "text/plain": [
       "<IPython.core.display.HTML object>"
      ]
     },
     "metadata": {},
     "output_type": "display_data"
    },
    {
     "data": {
      "text/html": [
       "Synced <strong style=\"color:#cdcd00\">glad-snowflake-2</strong>: <a href=\"https://wandb.ai/adamsoja/Model-Dice_Categorical2/runs/123h5h0f\" target=\"_blank\">https://wandb.ai/adamsoja/Model-Dice_Categorical2/runs/123h5h0f</a><br/>Synced 6 W&B file(s), 0 media file(s), 0 artifact file(s) and 0 other file(s)"
      ],
      "text/plain": [
       "<IPython.core.display.HTML object>"
      ]
     },
     "metadata": {},
     "output_type": "display_data"
    },
    {
     "data": {
      "text/html": [
       "Find logs at: <code>.\\wandb\\run-20221108_111500-123h5h0f\\logs</code>"
      ],
      "text/plain": [
       "<IPython.core.display.HTML object>"
      ]
     },
     "metadata": {},
     "output_type": "display_data"
    },
    {
     "data": {
      "text/html": [
       "Successfully finished last run (ID:123h5h0f). Initializing new run:<br/>"
      ],
      "text/plain": [
       "<IPython.core.display.HTML object>"
      ]
     },
     "metadata": {},
     "output_type": "display_data"
    },
    {
     "data": {
      "text/html": [
       "Tracking run with wandb version 0.13.5"
      ],
      "text/plain": [
       "<IPython.core.display.HTML object>"
      ]
     },
     "metadata": {},
     "output_type": "display_data"
    },
    {
     "data": {
      "text/html": [
       "Run data is saved locally in <code>C:\\Users\\adame\\Desktop\\Inzynierka\\wandb\\run-20221108_112114-5ukxhuo1</code>"
      ],
      "text/plain": [
       "<IPython.core.display.HTML object>"
      ]
     },
     "metadata": {},
     "output_type": "display_data"
    },
    {
     "data": {
      "text/html": [
       "Syncing run <strong><a href=\"https://wandb.ai/adamsoja/Model-Dice_Categorical2/runs/5ukxhuo1\" target=\"_blank\">true-sea-3</a></strong> to <a href=\"https://wandb.ai/adamsoja/Model-Dice_Categorical2\" target=\"_blank\">Weights & Biases</a> (<a href=\"https://wandb.me/run\" target=\"_blank\">docs</a>)<br/>"
      ],
      "text/plain": [
       "<IPython.core.display.HTML object>"
      ]
     },
     "metadata": {},
     "output_type": "display_data"
    },
    {
     "data": {
      "text/html": [
       "<button onClick=\"this.nextSibling.style.display='block';this.style.display='none';\">Display W&B run</button><iframe src=\"https://wandb.ai/adamsoja/Model-Dice_Categorical2/runs/5ukxhuo1?jupyter=true\" style=\"border:none;width:100%;height:420px;display:none;\"></iframe>"
      ],
      "text/plain": [
       "<wandb.sdk.wandb_run.Run at 0x22c50085eb0>"
      ]
     },
     "execution_count": 14,
     "metadata": {},
     "output_type": "execute_result"
    }
   ],
   "source": [
    "import wandb\n",
    "from wandb.keras import WandbCallback\n",
    "\n",
    "wandb.init(project=\"Model-Dice_Categorical2\", entity=\"adamsoja\")\n",
    "\n",
    "\n"
   ]
  },
  {
   "cell_type": "code",
   "execution_count": 15,
   "id": "2efc5b36-2664-4314-aa9e-7b2921bb4009",
   "metadata": {},
   "outputs": [
    {
     "name": "stdout",
     "output_type": "stream",
     "text": [
      "2.10.0\n"
     ]
    }
   ],
   "source": [
    "batch_size = 20\n",
    "train_X = image_load_generator_x('brains/train',batch_size)\n",
    "train_mask_gen = image_load_generator_mask('brains/train',batch_size)\n",
    "\n",
    "val_X = image_load_generator_x('brains/valid',batch_size)\n",
    "val_mask_gen = image_load_generator_mask('brains/valid',batch_size)\n",
    "import os\n",
    "\n",
    "steps_train = len(os.listdir('brains/train/mask')) // batch_size\n",
    "steps_val = len(os.listdir('brains/valid/mask')) // batch_size\n",
    "\n",
    "len(os.listdir('brains/train/mask'))\n",
    "\n",
    "tf.print(tf.__version__)"
   ]
  },
  {
   "cell_type": "code",
   "execution_count": 16,
   "id": "437fb6c4-9e9b-4d93-a9ce-b0fd8082a145",
   "metadata": {},
   "outputs": [],
   "source": [
    "train_datagen = zip(train_X,train_mask_gen)\n",
    "val_datagen = zip(val_X,val_mask_gen)"
   ]
  },
  {
   "cell_type": "code",
   "execution_count": 27,
   "id": "03d663e6-1afc-41ec-ac03-3d7532c02104",
   "metadata": {},
   "outputs": [],
   "source": [
    "def tversky(y_true, y_pred):\n",
    "    smooth=1.\n",
    "    y_true_pos = K.flatten(y_true)\n",
    "    y_pred_pos = K.flatten(y_pred)\n",
    "    true_pos = K.sum(y_true_pos * y_pred_pos)\n",
    "    false_neg = K.sum(y_true_pos * (1-y_pred_pos))\n",
    "    false_pos = K.sum((1-y_true_pos)*y_pred_pos)\n",
    "    alpha = 0.7\n",
    "    return (true_pos + smooth)/(true_pos + alpha*false_neg + (1-alpha)*false_pos + smooth)\n",
    "\n",
    "def tversky_loss(y_true, y_pred):\n",
    "    return 1 - tversky(y_true,y_pred)\n",
    "\n",
    "def focal_tversky(y_true,y_pred):\n",
    "    pt_1 = tversky(y_true, y_pred)\n",
    "    gamma = 0.75\n",
    "    return K.pow((1-pt_1), gamma)\n",
    "\n",
    "\n",
    "#posprawdzać"
   ]
  },
  {
   "cell_type": "code",
   "execution_count": 28,
   "id": "0fd0acf3-d5b7-4815-bc56-ad9be12bc423",
   "metadata": {},
   "outputs": [],
   "source": [
    "def dice_coef(y_true, y_pred, smooth=1.):\n",
    "    y_true_f = K.flatten(y_true)\n",
    "    y_pred_f = K.flatten(y_pred)\n",
    "    intersection = K.sum(y_true_f * y_pred_f)\n",
    "    dice = (2. * intersection + smooth) / (K.sum(y_true_f) + K.sum(y_pred_f) + smooth)\n",
    "    return dice\n",
    "\n",
    "\n",
    "\n",
    "def dice_coef_multilabel(y_true, y_pred, numLabels):\n",
    "    dice=0\n",
    "    for index in range(numLabels):\n",
    "        dice += dice_coef(y_true[:,:,:,index], y_pred[:,:,:,index])\n",
    "    return dice/numLabel\n",
    "\n",
    "\n",
    "loss_cross = tf.keras.losses.CategoricalCrossentropy()\n",
    "\n",
    "def dice_coef_loss(y_true, y_pred, smooth=1.):\n",
    "    return ((1 - dice_coef(y_true, y_pred,1.)) + loss_cross(y_true,y_pred) + focal_tversky(y_true,y_pred))\n",
    "\n",
    "metrics = [dice_coef,tf.keras.metrics.MeanIoU(num_classes=4),'accuracy']\n",
    "\n",
    "\n",
    "#wagi class"
   ]
  },
  {
   "cell_type": "code",
   "execution_count": 29,
   "id": "e194e1a4-4fb3-4f8b-a548-83a62d970483",
   "metadata": {},
   "outputs": [],
   "source": [
    "\n",
    "def multi_unet_model(n_classes=4, IMG_HEIGHT=240, IMG_WIDTH=240, IMG_CHANNELS=1):\n",
    "#Build the model\n",
    "    inputs = Input((IMG_HEIGHT, IMG_WIDTH, IMG_CHANNELS))\n",
    "    #s = Lambda(lambda x: x / 255)(inputs)   #No need for this if we normalize our inputs beforehand\n",
    "    s = inputs\n",
    "\n",
    "    #Contraction path\n",
    "    c1 = Conv2D(16, (3, 3), activation='relu', kernel_initializer='he_normal', padding='same')(s)\n",
    "    c1 = Dropout(0.1)(c1)\n",
    "    c1 = Conv2D(16, (3, 3), activation='relu', kernel_initializer='he_normal', padding='same')(c1)\n",
    "    p1 = MaxPooling2D((2, 2))(c1)\n",
    "    \n",
    "    c2 = Conv2D(32, (3, 3), activation='relu', kernel_initializer='he_normal', padding='same')(p1)\n",
    "    c2 = Dropout(0.1)(c2)\n",
    "    c2 = Conv2D(32, (3, 3), activation='relu', kernel_initializer='he_normal', padding='same')(c2)\n",
    "    p2 = MaxPooling2D((2, 2))(c2)\n",
    "     \n",
    "    c3 = Conv2D(64, (3, 3), activation='relu', kernel_initializer='he_normal', padding='same')(p2)\n",
    "    c3 = Dropout(0.1)(c3)\n",
    "    c3 = Conv2D(64, (3, 3), activation='relu', kernel_initializer='he_normal', padding='same')(c3)\n",
    "    p3 = MaxPooling2D((2, 2))(c3)\n",
    "     \n",
    "    c4 = Conv2D(128, (3, 3), activation='relu', kernel_initializer='he_normal', padding='same')(p3)\n",
    "    c4 = Dropout(0.2)(c4)\n",
    "    c4 = Conv2D(128, (3, 3), activation='relu', kernel_initializer='he_normal', padding='same')(c4)\n",
    "    p4 = MaxPooling2D(pool_size=(2, 2))(c4)\n",
    "     \n",
    "    c5 = Conv2D(256, (3, 3), activation='relu', kernel_initializer='he_normal', padding='same')(p4)\n",
    "    c5 = Dropout(0.2)(c5)\n",
    "    c5 = Conv2D(256, (3, 3), activation='relu', kernel_initializer='he_normal', padding='same')(c5)\n",
    "    \n",
    "    #Expansive path \n",
    "    u6 = Conv2DTranspose(128, (2, 2), strides=(2, 2), padding='same')(c5)\n",
    "    u6 = concatenate([u6, c4])\n",
    "    c6 = Conv2D(128, (3, 3), activation='relu', kernel_initializer='he_normal', padding='same')(u6)\n",
    "    c6 = Dropout(0.2)(c6)\n",
    "    c6 = Conv2D(128, (3, 3), activation='relu', kernel_initializer='he_normal', padding='same')(c6)\n",
    "     \n",
    "    u7 = Conv2DTranspose(64, (2, 2), strides=(2, 2), padding='same')(c6)\n",
    "    u7 = concatenate([u7, c3])\n",
    "    c7 = Conv2D(64, (3, 3), activation='relu', kernel_initializer='he_normal', padding='same')(u7)\n",
    "    c7 = Dropout(0.2)(c7)\n",
    "    c7 = Conv2D(64, (3, 3), activation='relu', kernel_initializer='he_normal', padding='same')(c7)\n",
    "     \n",
    "    u8 = Conv2DTranspose(32, (2, 2), strides=(2, 2), padding='same')(c7)\n",
    "    u8 = concatenate([u8, c2])\n",
    "    c8 = Conv2D(32, (3, 3), activation='relu', kernel_initializer='he_normal', padding='same')(u8)\n",
    "    c8 = Dropout(0.1)(c8)\n",
    "    c8 = Conv2D(32, (3, 3), activation='relu', kernel_initializer='he_normal', padding='same')(c8)\n",
    "     \n",
    "    u9 = Conv2DTranspose(16, (2, 2), strides=(2, 2), padding='same')(c8)\n",
    "    u9 = concatenate([u9, c1], axis=3)\n",
    "    c9 = Conv2D(16, (3, 3), activation='relu', kernel_initializer='he_normal', padding='same')(u9)\n",
    "    c9 = Dropout(0.1)(c9)\n",
    "\n",
    "    c9 = Conv2D(16, (3, 3), activation='relu', kernel_initializer='he_normal', padding='same')(c9)\n",
    "     \n",
    "    outputs = Conv2D(n_classes, (1, 1), activation='softmax')(c9)\n",
    "     \n",
    "    model = Model(inputs=[inputs], outputs=[outputs])\n",
    "    \n",
    "\n",
    "    return model\n",
    "\n",
    "\n",
    "import keras\n",
    "opt = keras.optimizers.Adam(learning_rate=0.001)\n",
    "\n",
    "model = multi_unet_model(n_classes=4, IMG_HEIGHT=240, IMG_WIDTH=240, IMG_CHANNELS=1)\n",
    "\n",
    "model.compile(optimizer=opt, loss=dice_coef_loss, metrics=[metrics])\n",
    "\n",
    "#model.summary()\n",
    "class_weights = [0.3,1,1,1]"
   ]
  },
  {
   "cell_type": "code",
   "execution_count": null,
   "id": "bb362184-957b-4930-8aac-165b0e0a238a",
   "metadata": {},
   "outputs": [
    {
     "name": "stdout",
     "output_type": "stream",
     "text": [
      "Epoch 1/20\n",
      "1539/1539 [==============================] - ETA: 0s - loss: 0.1921 - dice_coef: 0.9701 - mean_io_u_6: 0.5314 - accuracy: 0.9783"
     ]
    },
    {
     "name": "stderr",
     "output_type": "stream",
     "text": [
      "WARNING:absl:Found untraced functions such as _jit_compiled_convolution_op, _jit_compiled_convolution_op, _jit_compiled_convolution_op, _jit_compiled_convolution_op, _jit_compiled_convolution_op while saving (showing 5 of 23). These functions will not be directly callable after loading.\n"
     ]
    },
    {
     "name": "stdout",
     "output_type": "stream",
     "text": [
      "INFO:tensorflow:Assets written to: C:\\Users\\adame\\Desktop\\Inzynierka\\wandb\\run-20221108_112114-5ukxhuo1\\files\\model-best\\assets\n"
     ]
    },
    {
     "name": "stderr",
     "output_type": "stream",
     "text": [
      "INFO:tensorflow:Assets written to: C:\\Users\\adame\\Desktop\\Inzynierka\\wandb\\run-20221108_112114-5ukxhuo1\\files\\model-best\\assets\n",
      "\u001b[34m\u001b[1mwandb\u001b[0m: Adding directory to artifact (C:\\Users\\adame\\Desktop\\Inzynierka\\wandb\\run-20221108_112114-5ukxhuo1\\files\\model-best)... Done. 0.1s\n"
     ]
    },
    {
     "name": "stdout",
     "output_type": "stream",
     "text": [
      "1539/1539 [==============================] - 376s 240ms/step - loss: 0.1921 - dice_coef: 0.9701 - mean_io_u_6: 0.5314 - accuracy: 0.9783 - val_loss: 0.1584 - val_dice_coef: 0.9767 - val_mean_io_u_6: 0.8129 - val_accuracy: 0.9806\n",
      "Epoch 2/20\n"
     ]
    },
    {
     "name": "stderr",
     "output_type": "stream",
     "text": [
      "C:\\anaconda3\\envs\\machine\\lib\\site-packages\\sklearn\\preprocessing\\_label.py:115: DataConversionWarning: A column-vector y was passed when a 1d array was expected. Please change the shape of y to (n_samples, ), for example using ravel().\n",
      "  y = column_or_1d(y, warn=True)\n"
     ]
    },
    {
     "name": "stdout",
     "output_type": "stream",
     "text": [
      "1539/1539 [==============================] - ETA: 0s - loss: 0.1285 - dice_coef: 0.9802 - mean_io_u_6: 0.6837 - accuracy: 0.9838"
     ]
    },
    {
     "name": "stderr",
     "output_type": "stream",
     "text": [
      "WARNING:absl:Found untraced functions such as _jit_compiled_convolution_op, _jit_compiled_convolution_op, _jit_compiled_convolution_op, _jit_compiled_convolution_op, _jit_compiled_convolution_op while saving (showing 5 of 23). These functions will not be directly callable after loading.\n"
     ]
    },
    {
     "name": "stdout",
     "output_type": "stream",
     "text": [
      "INFO:tensorflow:Assets written to: C:\\Users\\adame\\Desktop\\Inzynierka\\wandb\\run-20221108_112114-5ukxhuo1\\files\\model-best\\assets\n"
     ]
    },
    {
     "name": "stderr",
     "output_type": "stream",
     "text": [
      "INFO:tensorflow:Assets written to: C:\\Users\\adame\\Desktop\\Inzynierka\\wandb\\run-20221108_112114-5ukxhuo1\\files\\model-best\\assets\n",
      "\u001b[34m\u001b[1mwandb\u001b[0m: Adding directory to artifact (C:\\Users\\adame\\Desktop\\Inzynierka\\wandb\\run-20221108_112114-5ukxhuo1\\files\\model-best)... Done. 0.1s\n"
     ]
    },
    {
     "name": "stdout",
     "output_type": "stream",
     "text": [
      "1539/1539 [==============================] - 425s 276ms/step - loss: 0.1285 - dice_coef: 0.9802 - mean_io_u_6: 0.6837 - accuracy: 0.9838 - val_loss: 0.1459 - val_dice_coef: 0.9789 - val_mean_io_u_6: 0.7981 - val_accuracy: 0.9818\n",
      "Epoch 3/20\n"
     ]
    },
    {
     "name": "stderr",
     "output_type": "stream",
     "text": [
      "C:\\anaconda3\\envs\\machine\\lib\\site-packages\\sklearn\\preprocessing\\_label.py:115: DataConversionWarning: A column-vector y was passed when a 1d array was expected. Please change the shape of y to (n_samples, ), for example using ravel().\n",
      "  y = column_or_1d(y, warn=True)\n"
     ]
    },
    {
     "name": "stdout",
     "output_type": "stream",
     "text": [
      "1539/1539 [==============================] - ETA: 0s - loss: 0.1214 - dice_coef: 0.9812 - mean_io_u_6: 0.6855 - accuracy: 0.9846"
     ]
    },
    {
     "name": "stderr",
     "output_type": "stream",
     "text": [
      "WARNING:absl:Found untraced functions such as _jit_compiled_convolution_op, _jit_compiled_convolution_op, _jit_compiled_convolution_op, _jit_compiled_convolution_op, _jit_compiled_convolution_op while saving (showing 5 of 23). These functions will not be directly callable after loading.\n"
     ]
    },
    {
     "name": "stdout",
     "output_type": "stream",
     "text": [
      "INFO:tensorflow:Assets written to: C:\\Users\\adame\\Desktop\\Inzynierka\\wandb\\run-20221108_112114-5ukxhuo1\\files\\model-best\\assets\n"
     ]
    },
    {
     "name": "stderr",
     "output_type": "stream",
     "text": [
      "INFO:tensorflow:Assets written to: C:\\Users\\adame\\Desktop\\Inzynierka\\wandb\\run-20221108_112114-5ukxhuo1\\files\\model-best\\assets\n",
      "\u001b[34m\u001b[1mwandb\u001b[0m: Adding directory to artifact (C:\\Users\\adame\\Desktop\\Inzynierka\\wandb\\run-20221108_112114-5ukxhuo1\\files\\model-best)... Done. 0.1s\n"
     ]
    },
    {
     "name": "stdout",
     "output_type": "stream",
     "text": [
      "1539/1539 [==============================] - 435s 283ms/step - loss: 0.1214 - dice_coef: 0.9812 - mean_io_u_6: 0.6855 - accuracy: 0.9846 - val_loss: 0.1364 - val_dice_coef: 0.9788 - val_mean_io_u_6: 0.7939 - val_accuracy: 0.9826\n",
      "Epoch 4/20\n"
     ]
    },
    {
     "name": "stderr",
     "output_type": "stream",
     "text": [
      "C:\\anaconda3\\envs\\machine\\lib\\site-packages\\sklearn\\preprocessing\\_label.py:115: DataConversionWarning: A column-vector y was passed when a 1d array was expected. Please change the shape of y to (n_samples, ), for example using ravel().\n",
      "  y = column_or_1d(y, warn=True)\n"
     ]
    },
    {
     "name": "stdout",
     "output_type": "stream",
     "text": [
      "1539/1539 [==============================] - ETA: 0s - loss: 0.1201 - dice_coef: 0.9814 - mean_io_u_6: 0.6983 - accuracy: 0.9847"
     ]
    },
    {
     "name": "stderr",
     "output_type": "stream",
     "text": [
      "WARNING:absl:Found untraced functions such as _jit_compiled_convolution_op, _jit_compiled_convolution_op, _jit_compiled_convolution_op, _jit_compiled_convolution_op, _jit_compiled_convolution_op while saving (showing 5 of 23). These functions will not be directly callable after loading.\n"
     ]
    },
    {
     "name": "stdout",
     "output_type": "stream",
     "text": [
      "INFO:tensorflow:Assets written to: C:\\Users\\adame\\Desktop\\Inzynierka\\wandb\\run-20221108_112114-5ukxhuo1\\files\\model-best\\assets\n"
     ]
    },
    {
     "name": "stderr",
     "output_type": "stream",
     "text": [
      "INFO:tensorflow:Assets written to: C:\\Users\\adame\\Desktop\\Inzynierka\\wandb\\run-20221108_112114-5ukxhuo1\\files\\model-best\\assets\n",
      "\u001b[34m\u001b[1mwandb\u001b[0m: Adding directory to artifact (C:\\Users\\adame\\Desktop\\Inzynierka\\wandb\\run-20221108_112114-5ukxhuo1\\files\\model-best)... Done. 0.1s\n"
     ]
    },
    {
     "name": "stdout",
     "output_type": "stream",
     "text": [
      "1539/1539 [==============================] - 431s 280ms/step - loss: 0.1201 - dice_coef: 0.9814 - mean_io_u_6: 0.6983 - accuracy: 0.9847 - val_loss: 0.1350 - val_dice_coef: 0.9788 - val_mean_io_u_6: 0.7816 - val_accuracy: 0.9825\n",
      "Epoch 5/20\n"
     ]
    },
    {
     "name": "stderr",
     "output_type": "stream",
     "text": [
      "C:\\anaconda3\\envs\\machine\\lib\\site-packages\\sklearn\\preprocessing\\_label.py:115: DataConversionWarning: A column-vector y was passed when a 1d array was expected. Please change the shape of y to (n_samples, ), for example using ravel().\n",
      "  y = column_or_1d(y, warn=True)\n"
     ]
    },
    {
     "name": "stdout",
     "output_type": "stream",
     "text": [
      "1539/1539 [==============================] - ETA: 0s - loss: 0.1128 - dice_coef: 0.9823 - mean_io_u_6: 0.6903 - accuracy: 0.9852"
     ]
    },
    {
     "name": "stderr",
     "output_type": "stream",
     "text": [
      "WARNING:absl:Found untraced functions such as _jit_compiled_convolution_op, _jit_compiled_convolution_op, _jit_compiled_convolution_op, _jit_compiled_convolution_op, _jit_compiled_convolution_op while saving (showing 5 of 23). These functions will not be directly callable after loading.\n"
     ]
    },
    {
     "name": "stdout",
     "output_type": "stream",
     "text": [
      "INFO:tensorflow:Assets written to: C:\\Users\\adame\\Desktop\\Inzynierka\\wandb\\run-20221108_112114-5ukxhuo1\\files\\model-best\\assets\n"
     ]
    },
    {
     "name": "stderr",
     "output_type": "stream",
     "text": [
      "INFO:tensorflow:Assets written to: C:\\Users\\adame\\Desktop\\Inzynierka\\wandb\\run-20221108_112114-5ukxhuo1\\files\\model-best\\assets\n",
      "\u001b[34m\u001b[1mwandb\u001b[0m: Adding directory to artifact (C:\\Users\\adame\\Desktop\\Inzynierka\\wandb\\run-20221108_112114-5ukxhuo1\\files\\model-best)... Done. 0.1s\n"
     ]
    },
    {
     "name": "stdout",
     "output_type": "stream",
     "text": [
      "1539/1539 [==============================] - 431s 280ms/step - loss: 0.1128 - dice_coef: 0.9823 - mean_io_u_6: 0.6903 - accuracy: 0.9852 - val_loss: 0.1316 - val_dice_coef: 0.9791 - val_mean_io_u_6: 0.7847 - val_accuracy: 0.9827\n",
      "Epoch 6/20\n"
     ]
    },
    {
     "name": "stderr",
     "output_type": "stream",
     "text": [
      "C:\\anaconda3\\envs\\machine\\lib\\site-packages\\sklearn\\preprocessing\\_label.py:115: DataConversionWarning: A column-vector y was passed when a 1d array was expected. Please change the shape of y to (n_samples, ), for example using ravel().\n",
      "  y = column_or_1d(y, warn=True)\n"
     ]
    },
    {
     "name": "stdout",
     "output_type": "stream",
     "text": [
      "1539/1539 [==============================] - ETA: 0s - loss: 0.1083 - dice_coef: 0.9830 - mean_io_u_6: 0.6928 - accuracy: 0.9856"
     ]
    },
    {
     "name": "stderr",
     "output_type": "stream",
     "text": [
      "WARNING:absl:Found untraced functions such as _jit_compiled_convolution_op, _jit_compiled_convolution_op, _jit_compiled_convolution_op, _jit_compiled_convolution_op, _jit_compiled_convolution_op while saving (showing 5 of 23). These functions will not be directly callable after loading.\n"
     ]
    },
    {
     "name": "stdout",
     "output_type": "stream",
     "text": [
      "INFO:tensorflow:Assets written to: C:\\Users\\adame\\Desktop\\Inzynierka\\wandb\\run-20221108_112114-5ukxhuo1\\files\\model-best\\assets\n"
     ]
    },
    {
     "name": "stderr",
     "output_type": "stream",
     "text": [
      "INFO:tensorflow:Assets written to: C:\\Users\\adame\\Desktop\\Inzynierka\\wandb\\run-20221108_112114-5ukxhuo1\\files\\model-best\\assets\n",
      "\u001b[34m\u001b[1mwandb\u001b[0m: Adding directory to artifact (C:\\Users\\adame\\Desktop\\Inzynierka\\wandb\\run-20221108_112114-5ukxhuo1\\files\\model-best)... Done. 0.1s\n"
     ]
    },
    {
     "name": "stdout",
     "output_type": "stream",
     "text": [
      "1539/1539 [==============================] - 431s 280ms/step - loss: 0.1083 - dice_coef: 0.9830 - mean_io_u_6: 0.6928 - accuracy: 0.9856 - val_loss: 0.1298 - val_dice_coef: 0.9796 - val_mean_io_u_6: 0.7942 - val_accuracy: 0.9828\n",
      "Epoch 7/20\n"
     ]
    },
    {
     "name": "stderr",
     "output_type": "stream",
     "text": [
      "C:\\anaconda3\\envs\\machine\\lib\\site-packages\\sklearn\\preprocessing\\_label.py:115: DataConversionWarning: A column-vector y was passed when a 1d array was expected. Please change the shape of y to (n_samples, ), for example using ravel().\n",
      "  y = column_or_1d(y, warn=True)\n"
     ]
    },
    {
     "name": "stdout",
     "output_type": "stream",
     "text": [
      "1539/1539 [==============================] - ETA: 0s - loss: 0.1048 - dice_coef: 0.9835 - mean_io_u_6: 0.7427 - accuracy: 0.9860"
     ]
    },
    {
     "name": "stderr",
     "output_type": "stream",
     "text": [
      "WARNING:absl:Found untraced functions such as _jit_compiled_convolution_op, _jit_compiled_convolution_op, _jit_compiled_convolution_op, _jit_compiled_convolution_op, _jit_compiled_convolution_op while saving (showing 5 of 23). These functions will not be directly callable after loading.\n"
     ]
    },
    {
     "name": "stdout",
     "output_type": "stream",
     "text": [
      "INFO:tensorflow:Assets written to: C:\\Users\\adame\\Desktop\\Inzynierka\\wandb\\run-20221108_112114-5ukxhuo1\\files\\model-best\\assets\n"
     ]
    },
    {
     "name": "stderr",
     "output_type": "stream",
     "text": [
      "INFO:tensorflow:Assets written to: C:\\Users\\adame\\Desktop\\Inzynierka\\wandb\\run-20221108_112114-5ukxhuo1\\files\\model-best\\assets\n",
      "\u001b[34m\u001b[1mwandb\u001b[0m: Adding directory to artifact (C:\\Users\\adame\\Desktop\\Inzynierka\\wandb\\run-20221108_112114-5ukxhuo1\\files\\model-best)... Done. 0.1s\n"
     ]
    },
    {
     "name": "stdout",
     "output_type": "stream",
     "text": [
      "1539/1539 [==============================] - 434s 282ms/step - loss: 0.1048 - dice_coef: 0.9835 - mean_io_u_6: 0.7427 - accuracy: 0.9860 - val_loss: 0.1255 - val_dice_coef: 0.9804 - val_mean_io_u_6: 0.7163 - val_accuracy: 0.9833\n",
      "Epoch 8/20\n"
     ]
    },
    {
     "name": "stderr",
     "output_type": "stream",
     "text": [
      "C:\\anaconda3\\envs\\machine\\lib\\site-packages\\sklearn\\preprocessing\\_label.py:115: DataConversionWarning: A column-vector y was passed when a 1d array was expected. Please change the shape of y to (n_samples, ), for example using ravel().\n",
      "  y = column_or_1d(y, warn=True)\n"
     ]
    },
    {
     "name": "stdout",
     "output_type": "stream",
     "text": [
      "1539/1539 [==============================] - ETA: 0s - loss: 0.1023 - dice_coef: 0.9839 - mean_io_u_6: 0.7605 - accuracy: 0.9864"
     ]
    },
    {
     "name": "stderr",
     "output_type": "stream",
     "text": [
      "WARNING:absl:Found untraced functions such as _jit_compiled_convolution_op, _jit_compiled_convolution_op, _jit_compiled_convolution_op, _jit_compiled_convolution_op, _jit_compiled_convolution_op while saving (showing 5 of 23). These functions will not be directly callable after loading.\n"
     ]
    },
    {
     "name": "stdout",
     "output_type": "stream",
     "text": [
      "INFO:tensorflow:Assets written to: C:\\Users\\adame\\Desktop\\Inzynierka\\wandb\\run-20221108_112114-5ukxhuo1\\files\\model-best\\assets\n"
     ]
    },
    {
     "name": "stderr",
     "output_type": "stream",
     "text": [
      "INFO:tensorflow:Assets written to: C:\\Users\\adame\\Desktop\\Inzynierka\\wandb\\run-20221108_112114-5ukxhuo1\\files\\model-best\\assets\n",
      "\u001b[34m\u001b[1mwandb\u001b[0m: Adding directory to artifact (C:\\Users\\adame\\Desktop\\Inzynierka\\wandb\\run-20221108_112114-5ukxhuo1\\files\\model-best)... Done. 0.1s\n"
     ]
    },
    {
     "name": "stdout",
     "output_type": "stream",
     "text": [
      "1539/1539 [==============================] - 430s 279ms/step - loss: 0.1023 - dice_coef: 0.9839 - mean_io_u_6: 0.7605 - accuracy: 0.9864 - val_loss: 0.1235 - val_dice_coef: 0.9813 - val_mean_io_u_6: 0.7726 - val_accuracy: 0.9837\n",
      "Epoch 9/20\n"
     ]
    },
    {
     "name": "stderr",
     "output_type": "stream",
     "text": [
      "C:\\anaconda3\\envs\\machine\\lib\\site-packages\\sklearn\\preprocessing\\_label.py:115: DataConversionWarning: A column-vector y was passed when a 1d array was expected. Please change the shape of y to (n_samples, ), for example using ravel().\n",
      "  y = column_or_1d(y, warn=True)\n"
     ]
    },
    {
     "name": "stdout",
     "output_type": "stream",
     "text": [
      "1539/1539 [==============================] - 428s 278ms/step - loss: 0.0986 - dice_coef: 0.9845 - mean_io_u_6: 0.7362 - accuracy: 0.9869 - val_loss: 0.1262 - val_dice_coef: 0.9819 - val_mean_io_u_6: 0.7682 - val_accuracy: 0.9837\n",
      "Epoch 10/20\n",
      "1095/1539 [====================>.........] - ETA: 1:45 - loss: 0.1013 - dice_coef: 0.9844 - mean_io_u_6: 0.7043 - accuracy: 0.9869"
     ]
    }
   ],
   "source": [
    "model.fit(train_datagen,\n",
    "                    steps_per_epoch = steps_train,\n",
    "                    verbose=1,\n",
    "                    epochs=20, \n",
    "                    validation_data=val_datagen, \n",
    "                    validation_steps = steps_val,\n",
    "                    shuffle=False,\n",
    "                    callbacks=[WandbCallback()],\n",
    "                   )\n",
    "                    \n",
    "    "
   ]
  },
  {
   "cell_type": "code",
   "execution_count": null,
   "id": "b3ce99d0-2429-47a4-a960-a3c9f932acd2",
   "metadata": {},
   "outputs": [],
   "source": [
    "model.save('models/dice_coef_categorical_crossentropy_tversky.h5')"
   ]
  },
  {
   "cell_type": "code",
   "execution_count": null,
   "id": "56f557b7-3288-40db-ba8c-91fbfae53e74",
   "metadata": {},
   "outputs": [],
   "source": [
    "def make_accuracy_plot(history):\n",
    "    \"\"\"\n",
    "    Accuracy plot of model \n",
    "    \"\"\"\n",
    "    import matplotlib.pyplot as plt\n",
    "    import seaborn as sns\n",
    "    sns.set()\n",
    "    acc, val_acc = history.history['dice_coef'], history.history['val_dice_coef']\n",
    "    epochs = range(1, len(acc) + 1)\n",
    "\n",
    "    plt.figure(figsize=(10, 8))\n",
    "    plt.plot(epochs, acc, label='Training dice', marker='o')\n",
    "    plt.plot(epochs, val_acc, label='Validation dice', marker='o')\n",
    "    plt.legend()\n",
    "    plt.title('Dokładność trenowania i walidacji')\n",
    "    plt.xlabel('Epoki')\n",
    "    plt.ylabel('Dice')\n",
    "    plt.show()\n",
    "\n",
    "def make_loss_plot(history):\n",
    "    \"\"\"\n",
    "    Loss plot of model\n",
    "    \"\"\"\n",
    "    import matplotlib.pyplot as plt\n",
    "    import seaborn as sns\n",
    "    sns.set()\n",
    "    loss, val_loss = history.history['loss'], history.history['val_loss']\n",
    "    epochs = range(1, len(loss) + 1)\n",
    "    \n",
    "    plt.figure(figsize=(10, 8))\n",
    "    plt.plot(epochs, loss, label='Training loss', marker='o')\n",
    "    plt.plot(epochs, val_loss, label='Validation loss', marker='o')\n",
    "    plt.legend()\n",
    "    plt.title('Strata trenowania i walidacji')\n",
    "    plt.xlabel('Epoki')\n",
    "    plt.ylabel('Strata')\n",
    "    plt.show()\n"
   ]
  },
  {
   "cell_type": "code",
   "execution_count": null,
   "id": "6b736c86-581f-49a3-9578-1125822f95c2",
   "metadata": {},
   "outputs": [],
   "source": [
    "make_accuracy_plot(history)"
   ]
  },
  {
   "cell_type": "code",
   "execution_count": null,
   "id": "f1966133-6de6-4357-a978-998627e99d82",
   "metadata": {},
   "outputs": [],
   "source": [
    "make_loss_plot(history)"
   ]
  },
  {
   "cell_type": "code",
   "execution_count": 14,
   "id": "f04ff1da-e772-4097-9e8e-30dd4fe3741f",
   "metadata": {},
   "outputs": [],
   "source": [
    "import tensorflow as  tf"
   ]
  },
  {
   "cell_type": "code",
   "execution_count": 11,
   "id": "e81e0afe-de5e-4bfb-8d04-04d4d24f3e9b",
   "metadata": {},
   "outputs": [],
   "source": [
    "import numpy as np \n",
    "from generator import image_load_generator_x,image_load_generator_mask,image_load_generator_mask_nocat\n",
    "import keras\n",
    "import matplotlib.pyplot as plt\n",
    "import random\n",
    "import tensorflow as  tf\n",
    "test_generator = image_load_generator_x('brains/test',50)\n",
    "mask_generator =image_load_generator_mask_nocat('brains/test',50)\n",
    "#model = tf.keras.models.load_model('models/dice_coef_categorical_crossentropy.h5',compile=False)"
   ]
  },
  {
   "cell_type": "code",
   "execution_count": 30,
   "id": "3ffa41ef-085a-4620-9c2d-facfc322ff14",
   "metadata": {},
   "outputs": [
    {
     "name": "stdout",
     "output_type": "stream",
     "text": [
      "2/2 [==============================] - 0s 300ms/step\n"
     ]
    },
    {
     "data": {
      "image/png": "[encoded data removed]",
      "text/plain": [
       "<Figure size 2160x1440 with 3 Axes>"
      ]
     },
     "metadata": {
      "needs_background": "light"
     },
     "output_type": "display_data"
    }
   ],
   "source": [
    "X_test = next(test_generator)\n",
    "Y_test = next(mask_generator)\n",
    "y_pred = model.predict(X_test)\n",
    "\n",
    "\n",
    "predicted_img=np.argmax(y_pred,axis=3)\n",
    "number = random.randint(0,49)\n",
    "\n",
    "brain = X_test[number]\n",
    "plt.figure(figsize=(30, 20))\n",
    "plt.subplot(241)\n",
    "plt.title('Zdjecie mozgu')\n",
    "plt.imshow(brain,cmap='gray')\n",
    "plt.subplot(242)\n",
    "plt.title('Segmentacja przez eksperta')\n",
    "plt.imshow(Y_test[number],cmap='gray')\n",
    "plt.subplot(243)\n",
    "plt.title('Segmentacja przez sieć')\n",
    "plt.imshow(predicted_img[number],cmap='gray')\n",
    "\n",
    "plt.show()"
   ]
  },
  {
   "cell_type": "code",
   "execution_count": 14,
   "id": "99882502-66c7-43de-83a2-5b02b5e20a76",
   "metadata": {},
   "outputs": [
    {
     "data": {
      "text/plain": [
       "(50, 240, 240, 4)"
      ]
     },
     "execution_count": 14,
     "metadata": {},
     "output_type": "execute_result"
    }
   ],
   "source": [
    "y_pred.shape"
   ]
  },
  {
   "cell_type": "code",
   "execution_count": 46,
   "id": "e57957ac-df9a-4616-ae8a-7e256be6bd25",
   "metadata": {},
   "outputs": [
    {
     "data": {
      "text/plain": [
       "array([0], dtype=int64)"
      ]
     },
     "execution_count": 46,
     "metadata": {},
     "output_type": "execute_result"
    }
   ],
   "source": [
    "np.unique(predicted_img)"
   ]
  },
  {
   "cell_type": "code",
   "execution_count": null,
   "id": "e6d17b7d-49f3-4fee-acb4-598bb4ab03da",
   "metadata": {},
   "outputs": [],
   "source": []
  }
 ],
 "metadata": {
  "kernelspec": {
   "display_name": "Python 3 (ipykernel)",
   "language": "python",
   "name": "python3"
  },
  "language_info": {
   "codemirror_mode": {
    "name": "ipython",
    "version": 3
   },
   "file_extension": ".py",
   "mimetype": "text/x-python",
   "name": "python",
   "nbconvert_exporter": "python",
   "pygments_lexer": "ipython3",
   "version": "3.8.0"
  }
 },
 "nbformat": 4,
 "nbformat_minor": 5
}
